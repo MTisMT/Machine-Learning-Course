{
 "cells": [
  {
   "cell_type": "markdown",
   "metadata": {},
   "source": [
    "<div class=\"alert alert-block alert-info\">\n",
    "    <h1 align=\"center\">Matplotlib Shared Axis</h1>\n",
    "    <h3 align=\"center\"> Machine Learning Course</h3>\n",
    "    <h5 align=\"center\">Alireza Aghamohammadi (http://linkedin.com/in/aaghamohammadi)</h5>\n",
    "</div>"
   ]
  },
  {
   "cell_type": "code",
   "execution_count": null,
   "metadata": {},
   "outputs": [],
   "source": [
    "import numpy as np\n",
    "import pandas as pd\n",
    "import matplotlib.pyplot as plt\n",
    "plt.style.use('seaborn')\n",
    "PATH_DATA = \"../data/\"\n",
    "PATH_IMG = \"../img/\""
   ]
  },
  {
   "cell_type": "code",
   "execution_count": null,
   "metadata": {},
   "outputs": [],
   "source": [
    "stackoverflow = pd.read_csv(PATH_DATA + \"stackoverflow.csv\")"
   ]
  },
  {
   "cell_type": "code",
   "execution_count": null,
   "metadata": {},
   "outputs": [],
   "source": [
    "stackoverflow['creationdate'] = pd.to_datetime(stackoverflow['creationdate'])"
   ]
  },
  {
   "cell_type": "code",
   "execution_count": null,
   "metadata": {},
   "outputs": [],
   "source": [
    "stackoverflow = stackoverflow[stackoverflow.creationdate >= pd.to_datetime('2012')]\n",
    "df = stackoverflow.groupby(pd.Grouper(key='creationdate', freq='M'))[['quest_rep','ans_rep','score', 'viewcount']].mean()"
   ]
  },
  {
   "cell_type": "markdown",
   "metadata": {},
   "source": [
    "#### Question: How to share axis between subplots?"
   ]
  },
  {
   "cell_type": "code",
   "execution_count": null,
   "metadata": {},
   "outputs": [],
   "source": [
    "fig, ax = plt.subplots(ncols=2, nrows=2, sharex='col')\n",
    "ax[0][0].plot(df.ans_rep)\n",
    "ax[0][1].plot(df.quest_rep)\n",
    "ax[1][0].plot(df.score)\n",
    "ax[1][1].plot(df.viewcount)\n",
    "fig.tight_layout()\n",
    "fig.show()"
   ]
  },
  {
   "cell_type": "markdown",
   "metadata": {},
   "source": [
    "#### Question: How Do I add labels to subplots?"
   ]
  },
  {
   "cell_type": "code",
   "execution_count": null,
   "metadata": {},
   "outputs": [],
   "source": [
    "fig, ax = plt.subplots(ncols=2, nrows=2, sharex='col')\n",
    "ax[0][0].plot(df.ans_rep)\n",
    "ax[0][0].set_ylabel(\"Answer Reputation\")\n",
    "ax[0][1].plot(df.quest_rep)\n",
    "ax[0][1].set_ylabel(\"Question Reputation\")\n",
    "ax[1][0].plot(df.score)\n",
    "ax[1][0].set_xlabel(\"Year\")\n",
    "ax[1][0].set_ylabel(\"Score\")\n",
    "ax[1][1].plot(df.viewcount)\n",
    "ax[1][1].set_xlabel(\"Year\")\n",
    "ax[1][1].set_ylabel(\"View Count\")\n",
    "fig.tight_layout()\n",
    "fig.savefig(PATH_IMG+\"demo.png\")\n",
    "fig.show()"
   ]
  },
  {
   "cell_type": "markdown",
   "metadata": {},
   "source": [
    "#### *What we learned*"
   ]
  },
  {
   "cell_type": "markdown",
   "metadata": {},
   "source": [
    "* We learned how to share axis between subplots\n",
    "* We learned how to set labels\n",
    "* We learned how to use *tight_layout* method"
   ]
  }
 ],
 "metadata": {
  "kernelspec": {
   "display_name": "Python 3",
   "language": "python",
   "name": "python3"
  },
  "language_info": {
   "codemirror_mode": {
    "name": "ipython",
    "version": 3
   },
   "file_extension": ".py",
   "mimetype": "text/x-python",
   "name": "python",
   "nbconvert_exporter": "python",
   "pygments_lexer": "ipython3",
   "version": "3.7.1"
  }
 },
 "nbformat": 4,
 "nbformat_minor": 2
}
