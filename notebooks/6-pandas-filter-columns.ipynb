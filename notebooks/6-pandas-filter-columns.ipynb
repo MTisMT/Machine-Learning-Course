{
 "cells": [
  {
   "cell_type": "markdown",
   "metadata": {},
   "source": [
    "<div class=\"alert alert-block alert-info\">\n",
    "    <h1 align=\"center\">Pandas Filtering Columns</h1>\n",
    "    <h3 align=\"center\"> Machine Learning Course</h3>\n",
    "    <h5 align=\"center\">Alireza Aghamohammadi (http://linkedin.com/in/aaghamohammadi)</h5>\n",
    "</div>"
   ]
  },
  {
   "cell_type": "code",
   "execution_count": null,
   "metadata": {},
   "outputs": [],
   "source": [
    "import pandas as pd"
   ]
  },
  {
   "cell_type": "code",
   "execution_count": null,
   "metadata": {},
   "outputs": [],
   "source": [
    "PATH = '../data/'\n",
    "gapminders = pd.read_csv(PATH + 'gapminder.csv')\n",
    "gapminders.head()"
   ]
  },
  {
   "cell_type": "code",
   "execution_count": null,
   "metadata": {},
   "outputs": [],
   "source": [
    "gapminders.shape"
   ]
  },
  {
   "cell_type": "markdown",
   "metadata": {},
   "source": [
    "#### Question: Which rows have more than 70 years of life expentancy?"
   ]
  },
  {
   "cell_type": "code",
   "execution_count": null,
   "metadata": {},
   "outputs": [],
   "source": [
    "gapminders[gapminders.life_expectancy >=70]"
   ]
  },
  {
   "cell_type": "markdown",
   "metadata": {},
   "source": [
    "#### Question: What happened?"
   ]
  },
  {
   "cell_type": "code",
   "execution_count": null,
   "metadata": {},
   "outputs": [],
   "source": [
    "gapminders.shape"
   ]
  },
  {
   "cell_type": "code",
   "execution_count": null,
   "metadata": {},
   "outputs": [],
   "source": [
    "booleans = []\n",
    "for l in gapminders.life_expectancy:\n",
    "    if l >=70:\n",
    "        booleans.append(True)\n",
    "    else:\n",
    "        booleans.append(False)"
   ]
  },
  {
   "cell_type": "code",
   "execution_count": null,
   "metadata": {},
   "outputs": [],
   "source": [
    "booleans[0:10]"
   ]
  },
  {
   "cell_type": "code",
   "execution_count": null,
   "metadata": {},
   "outputs": [],
   "source": [
    "len(booleans) == gapminders.shape[0]"
   ]
  },
  {
   "cell_type": "code",
   "execution_count": null,
   "metadata": {},
   "outputs": [],
   "source": [
    "predicate = pd.Series(booleans)"
   ]
  },
  {
   "cell_type": "code",
   "execution_count": null,
   "metadata": {},
   "outputs": [],
   "source": [
    "gapminders[predicate]"
   ]
  },
  {
   "cell_type": "markdown",
   "metadata": {},
   "source": [
    "#### Question:Which rows have more than 70 years of lif expentency and live in Americas Continent?"
   ]
  },
  {
   "cell_type": "code",
   "execution_count": null,
   "metadata": {},
   "outputs": [],
   "source": [
    "gapminders[(gapminders.life_expectancy>=70) & (gapminders.continent==\"Americas\")]"
   ]
  },
  {
   "cell_type": "markdown",
   "metadata": {},
   "source": [
    "#### Question: What happened?"
   ]
  },
  {
   "cell_type": "markdown",
   "metadata": {},
   "source": [
    "First of all, the folliwng code is incorrect:\n",
    "```python\n",
    "gapminders[gapminders.life_expectancy>=70 and gapminders.continent==\"Americas\"]\n",
    "```\n",
    "Indeed, there are two problems with that code:\n",
    "\n",
    "- You should always use ( and ) after each predicate\n",
    "- You should always use *\\&* instead of *and*\n",
    "As a result, the correct form is as follows:\n",
    "\n",
    "```python\n",
    "gapminders[(gapminders.life_expectancy>=70) & (gapminders.continent==\"Americas\")]\n",
    "```"
   ]
  },
  {
   "cell_type": "markdown",
   "metadata": {},
   "source": [
    "#### Question: which rows in 2015 have more than 10 million population or life_expentency is more than 70 and their contient is in Asia or Europe?"
   ]
  },
  {
   "cell_type": "code",
   "execution_count": null,
   "metadata": {},
   "outputs": [],
   "source": [
    "gapminders[(gapminders.year==2015) & ((gapminders.population>=1e7) | (gapminders.life_expectancy>=70)) & (gapminders.continent.isin(['Asia', 'Europe']))]"
   ]
  },
  {
   "cell_type": "markdown",
   "metadata": {},
   "source": [
    "#### *What we learned*"
   ]
  },
  {
   "cell_type": "markdown",
   "metadata": {},
   "source": [
    "* We learned how to filter one column\n",
    "* We can filter multiple columns by using *\\&* and *\\|* operator"
   ]
  }
 ],
 "metadata": {
  "kernelspec": {
   "display_name": "Python 3",
   "language": "python",
   "name": "python3"
  },
  "language_info": {
   "codemirror_mode": {
    "name": "ipython",
    "version": 3
   },
   "file_extension": ".py",
   "mimetype": "text/x-python",
   "name": "python",
   "nbconvert_exporter": "python",
   "pygments_lexer": "ipython3",
   "version": "3.7.1"
  }
 },
 "nbformat": 4,
 "nbformat_minor": 2
}
