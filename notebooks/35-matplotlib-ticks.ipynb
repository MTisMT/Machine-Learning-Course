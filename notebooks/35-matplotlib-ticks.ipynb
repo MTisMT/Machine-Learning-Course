{
 "cells": [
  {
   "cell_type": "markdown",
   "metadata": {},
   "source": [
    "<div class=\"alert alert-block alert-info\">\n",
    "    <h1 align=\"center\">Matplotlib Ticks</h1>\n",
    "    <h3 align=\"center\"> Machine Learning Course</h3>\n",
    "    <h5 align=\"center\">Alireza Aghamohammadi (http://linkedin.com/in/aaghamohammadi)</h5>\n",
    "</div>"
   ]
  },
  {
   "cell_type": "code",
   "execution_count": null,
   "metadata": {},
   "outputs": [],
   "source": [
    "import numpy as np\n",
    "import pandas as pd\n",
    "import matplotlib.pyplot as plt\n",
    "from matplotlib.ticker import FuncFormatter\n",
    "import calendar\n",
    "\n",
    "plt.style.use('seaborn')\n",
    "PATH_DATA = \"../data/\"\n",
    "PATH_IMG = \"../img/\""
   ]
  },
  {
   "cell_type": "code",
   "execution_count": null,
   "metadata": {},
   "outputs": [],
   "source": [
    "PATH = \"../data/\"\n",
    "stackoverflow = pd.read_csv(PATH + \"stackoverflow.csv\")\n",
    "stackoverflow.head()"
   ]
  },
  {
   "cell_type": "code",
   "execution_count": null,
   "metadata": {},
   "outputs": [],
   "source": [
    "stackoverflow['creationdate'] = pd.to_datetime(stackoverflow['creationdate'])"
   ]
  },
  {
   "cell_type": "code",
   "execution_count": null,
   "metadata": {},
   "outputs": [],
   "source": [
    "stackoverflow = stackoverflow[(stackoverflow.creationdate >= pd.to_datetime('2015')) & (stackoverflow.creationdate <= pd.to_datetime('2016'))]"
   ]
  },
  {
   "cell_type": "code",
   "execution_count": null,
   "metadata": {},
   "outputs": [],
   "source": [
    "df = stackoverflow.groupby(pd.Grouper(key='creationdate', freq='M'))[['quest_rep','ans_rep']].mean()\n",
    "df.reset_index(inplace=True)"
   ]
  },
  {
   "cell_type": "markdown",
   "metadata": {},
   "source": [
    "#### Question: How do I set x axis range?"
   ]
  },
  {
   "cell_type": "code",
   "execution_count": null,
   "metadata": {},
   "outputs": [],
   "source": [
    "fig, ax = plt.subplots()\n",
    "ax.plot(df.creationdate.dt.month,df.ans_rep)\n",
    "ax.set_xlim(1,12)\n",
    "fig.show()"
   ]
  },
  {
   "cell_type": "markdown",
   "metadata": {},
   "source": [
    "#### Question: How do I set *xticks* and *xticklabels*?"
   ]
  },
  {
   "cell_type": "code",
   "execution_count": null,
   "metadata": {},
   "outputs": [],
   "source": [
    "fig, ax = plt.subplots(figsize=(6,4), dpi=300)\n",
    "ax.plot(df.creationdate.dt.month,df.ans_rep)\n",
    "ax.set_xlim(1,12)\n",
    "ax.set_xticks(range(1,13))\n",
    "ax.set_xticklabels(calendar.month_name[1:13], rotation='30', ha='right')\n",
    "fig.tight_layout()\n",
    "fig.show()"
   ]
  },
  {
   "cell_type": "markdown",
   "metadata": {},
   "source": [
    "#### Question: How to correct the range of y axis?"
   ]
  },
  {
   "cell_type": "code",
   "execution_count": null,
   "metadata": {},
   "outputs": [],
   "source": [
    "def make_yticklabel(tick_value, pos):\n",
    "    return f\"{int(tick_value/1000)}K\""
   ]
  },
  {
   "cell_type": "code",
   "execution_count": null,
   "metadata": {},
   "outputs": [],
   "source": [
    "fig, ax = plt.subplots(figsize=(6,4), dpi=300)\n",
    "ax.plot(df.creationdate.dt.month,df.ans_rep)\n",
    "ax.set_xlim(1,12)\n",
    "ax.set_xticks(range(1,13))\n",
    "ax.set_xticklabels(calendar.month_name[1:13], rotation='45', ha='right')\n",
    "ax.yaxis.set_major_formatter(FuncFormatter(make_yticklabel))\n",
    "ax.set_ylabel(\"Reputation\")\n",
    "ax.set_xlabel(\"Month\")\n",
    "fig.tight_layout()\n",
    "fig.show()"
   ]
  },
  {
   "cell_type": "markdown",
   "metadata": {},
   "source": [
    "#### Question: How to add legend?"
   ]
  },
  {
   "cell_type": "code",
   "execution_count": null,
   "metadata": {},
   "outputs": [],
   "source": [
    "fig, ax = plt.subplots(figsize=(6,4), dpi=300)\n",
    "ax.plot(df.creationdate.dt.month,df.ans_rep, linestyle='dashed', marker='o', markerfacecolor='blue', markersize=4)\n",
    "ax.grid(False)\n",
    "ax.set_xlim(0.8,12.2)\n",
    "ax.set_xticks(range(1,13))\n",
    "ax.set_xticklabels(calendar.month_name[1:13], rotation='45', ha='right')\n",
    "ax.yaxis.set_major_formatter(FuncFormatter(make_yticklabel))\n",
    "ax.set_ylabel(\"Reputation\")\n",
    "ax.set_xlabel(\"Month\")\n",
    "ax.legend(labels=['Answer Reputation'], loc='upper right')\n",
    "fig.tight_layout()\n",
    "fig.show()\n",
    "fig.savefig(PATH_IMG + \"demo.png\")"
   ]
  },
  {
   "cell_type": "markdown",
   "metadata": {},
   "source": [
    "#### *What we learned*"
   ]
  },
  {
   "cell_type": "markdown",
   "metadata": {},
   "source": [
    "* We learned how to work with *xticks*, *xticklabels*, *xlim*\n",
    "* We learned how to change the scale of an axis values\n",
    "* We learned how to work with marker"
   ]
  }
 ],
 "metadata": {
  "kernelspec": {
   "display_name": "Python 3",
   "language": "python",
   "name": "python3"
  },
  "language_info": {
   "codemirror_mode": {
    "name": "ipython",
    "version": 3
   },
   "file_extension": ".py",
   "mimetype": "text/x-python",
   "name": "python",
   "nbconvert_exporter": "python",
   "pygments_lexer": "ipython3",
   "version": "3.7.0"
  }
 },
 "nbformat": 4,
 "nbformat_minor": 2
}
