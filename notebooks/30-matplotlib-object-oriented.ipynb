{
 "cells": [
  {
   "cell_type": "markdown",
   "metadata": {},
   "source": [
    "<div class=\"alert alert-block alert-info\">\n",
    "    <h1 align=\"center\">Matplotlib Object Oriented</h1>\n",
    "    <h3 align=\"center\"> Machine Learning Course</h3>\n",
    "    <h5 align=\"center\">Alireza Aghamohammadi (http://linkedin.com/in/aaghamohammadi)</h5>\n",
    "</div>"
   ]
  },
  {
   "cell_type": "code",
   "execution_count": null,
   "metadata": {},
   "outputs": [],
   "source": [
    "import numpy as np\n",
    "import pandas as pd\n",
    "import matplotlib.pyplot as plt\n",
    "plt.style.use('seaborn')\n",
    "PATH = \"../img/\""
   ]
  },
  {
   "cell_type": "markdown",
   "metadata": {},
   "source": [
    "#### Question: How to draw figure with object oriented  API of matplotlib?"
   ]
  },
  {
   "cell_type": "code",
   "execution_count": null,
   "metadata": {},
   "outputs": [],
   "source": [
    "fig, ax = plt.subplots()\n",
    "x = np.linspace(-10,10,100)\n",
    "y = np.sin(x) + x\n",
    "ax.plot(x, y)\n",
    "fig.show()"
   ]
  },
  {
   "cell_type": "markdown",
   "metadata": {},
   "source": [
    "#### Question: How do I add title?"
   ]
  },
  {
   "cell_type": "code",
   "execution_count": null,
   "metadata": {},
   "outputs": [],
   "source": [
    "fig, ax = plt.subplots()\n",
    "x = np.linspace(-10,10,100)\n",
    "y = np.sin(x) + x\n",
    "ax.set_title(r\"$y = \\sin(x) + x$\")\n",
    "ax.plot(x, y)\n",
    "fig.show()"
   ]
  },
  {
   "cell_type": "markdown",
   "metadata": {},
   "source": [
    "#### Question: How do I save a figure?"
   ]
  },
  {
   "cell_type": "code",
   "execution_count": null,
   "metadata": {},
   "outputs": [],
   "source": [
    "fig, ax = plt.subplots()\n",
    "x = np.linspace(-10,10,100)\n",
    "y = np.sin(x) + x\n",
    "ax.set_title(r\"$y = \\sin(x) + x$\")\n",
    "ax.plot(x, y)\n",
    "fig.savefig(PATH + \"demo.png\")\n",
    "fig.show()"
   ]
  },
  {
   "cell_type": "markdown",
   "metadata": {},
   "source": [
    "#### Question: How to draw two plots in a same figure?"
   ]
  },
  {
   "cell_type": "code",
   "execution_count": null,
   "metadata": {},
   "outputs": [],
   "source": [
    "fig, ax = plt.subplots()\n",
    "x = np.linspace(-10,10,100)\n",
    "y1 = np.sin(x) + x\n",
    "y2 = 2 * x - np.sin(x)\n",
    "ax.plot(x, y1 , label=r\"$y_{1} = \\sin(x) + x$\")\n",
    "ax.plot(x, y2, label=r\"$y_{2} = 2x - \\sin(x)$\")\n",
    "ax.legend()\n",
    "fig.savefig(PATH + \"demo.png\")\n",
    "fig.show()"
   ]
  },
  {
   "cell_type": "markdown",
   "metadata": {},
   "source": [
    "#### Question: How to draw two plots in different figures?"
   ]
  },
  {
   "cell_type": "code",
   "execution_count": null,
   "metadata": {},
   "outputs": [],
   "source": [
    "fig, ax = plt.subplots(1, 2)\n",
    "x = np.linspace(-10,10,100)\n",
    "y1 = np.sin(x) + x\n",
    "y2 = 2 * x - np.sin(x)\n",
    "ax[0].plot(x, y1 , label=r\"$y_{1} = \\sin(x) + x$\", color='r')\n",
    "ax[0].legend()\n",
    "ax[0].axhline(2.5,linestyle='--', color='blue')\n",
    "ax[1].plot(x, y2, label=r\"$y_{2} = 2x - \\sin(x)$\", color='g')\n",
    "ax[1].legend()\n",
    "ax[1].axhline(10,linestyle='--', color='blue')\n",
    "fig.show()"
   ]
  },
  {
   "cell_type": "markdown",
   "metadata": {},
   "source": [
    "#### *What we learned*"
   ]
  },
  {
   "cell_type": "markdown",
   "metadata": {},
   "source": [
    "* We learned how to work with object oriented API \n",
    "* We learned how to set title\n",
    "* We learned how to use LaTeX format in title\n",
    "* We learned how to use legend\n",
    "* We learned how to save figure\n",
    "* We learned how to change the color of plot\n",
    "* We learned how to add horizontal line"
   ]
  }
 ],
 "metadata": {
  "kernelspec": {
   "display_name": "Python 3",
   "language": "python",
   "name": "python3"
  },
  "language_info": {
   "codemirror_mode": {
    "name": "ipython",
    "version": 3
   },
   "file_extension": ".py",
   "mimetype": "text/x-python",
   "name": "python",
   "nbconvert_exporter": "python",
   "pygments_lexer": "ipython3",
   "version": "3.7.0"
  }
 },
 "nbformat": 4,
 "nbformat_minor": 2
}
