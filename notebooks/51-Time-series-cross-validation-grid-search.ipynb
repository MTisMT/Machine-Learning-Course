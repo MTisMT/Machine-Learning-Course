{
 "cells": [
  {
   "cell_type": "markdown",
   "metadata": {
    "slideshow": {
     "slide_type": "slide"
    }
   },
   "source": [
    "<div class=\"alert alert-block alert-info\">\n",
    "    <h1 align=\"center\">Time Series Cross Validation & Grid Search</h1>\n",
    "    <h3 align=\"center\"> Machine Learning Course</h3>\n",
    "    <h5 align=\"center\">Mohammad Talaei (https://www.linkedin.com/in/mohammad-talaei-mt/)</h5>\n",
    "</div>"
   ]
  },
  {
   "cell_type": "markdown",
   "metadata": {
    "slideshow": {
     "slide_type": "slide"
    }
   },
   "source": [
    "#### Load Dependencies"
   ]
  },
  {
   "cell_type": "code",
   "execution_count": 12,
   "metadata": {
    "slideshow": {
     "slide_type": "fragment"
    }
   },
   "outputs": [],
   "source": [
    "import matplotlib.pyplot as plt\n",
    "import matplotlib\n",
    "import numpy as np\n",
    "import pandas as pd\n",
    "from sklearn.ensemble import RandomForestRegressor\n",
    "from sklearn.model_selection import GridSearchCV\n",
    "from sklearn import metrics\n",
    "from sklearn.model_selection import train_test_split"
   ]
  },
  {
   "cell_type": "markdown",
   "metadata": {
    "slideshow": {
     "slide_type": "slide"
    }
   },
   "source": [
    "#### Set Configuration"
   ]
  },
  {
   "cell_type": "code",
   "execution_count": 2,
   "metadata": {
    "slideshow": {
     "slide_type": "fragment"
    }
   },
   "outputs": [],
   "source": [
    "plt.style.use('seaborn')"
   ]
  },
  {
   "cell_type": "markdown",
   "metadata": {
    "slideshow": {
     "slide_type": "slide"
    }
   },
   "source": [
    "#### Set Hyperparameters"
   ]
  },
  {
   "cell_type": "code",
   "execution_count": 6,
   "metadata": {
    "slideshow": {
     "slide_type": "fragment"
    }
   },
   "outputs": [],
   "source": [
    "PATH_DATA = \"./data/\""
   ]
  },
  {
   "cell_type": "markdown",
   "metadata": {
    "slideshow": {
     "slide_type": "slide"
    }
   },
   "source": [
    "#### Load Data"
   ]
  },
  {
   "cell_type": "code",
   "execution_count": 7,
   "metadata": {
    "slideshow": {
     "slide_type": "subslide"
    }
   },
   "outputs": [
    {
     "data": {
      "text/html": [
       "<div>\n",
       "<style scoped>\n",
       "    .dataframe tbody tr th:only-of-type {\n",
       "        vertical-align: middle;\n",
       "    }\n",
       "\n",
       "    .dataframe tbody tr th {\n",
       "        vertical-align: top;\n",
       "    }\n",
       "\n",
       "    .dataframe thead th {\n",
       "        text-align: right;\n",
       "    }\n",
       "</style>\n",
       "<table border=\"1\" class=\"dataframe\">\n",
       "  <thead>\n",
       "    <tr style=\"text-align: right;\">\n",
       "      <th></th>\n",
       "      <th>CRIM</th>\n",
       "      <th>ZN</th>\n",
       "      <th>INDUS</th>\n",
       "      <th>CHAS</th>\n",
       "      <th>NOX</th>\n",
       "      <th>RM</th>\n",
       "      <th>AGE</th>\n",
       "      <th>DIS</th>\n",
       "      <th>RAD</th>\n",
       "      <th>TAX</th>\n",
       "      <th>PTRATIO</th>\n",
       "      <th>B</th>\n",
       "      <th>LSTAT</th>\n",
       "      <th>MEDV</th>\n",
       "    </tr>\n",
       "  </thead>\n",
       "  <tbody>\n",
       "    <tr>\n",
       "      <th>0</th>\n",
       "      <td>0.00632</td>\n",
       "      <td>18.0</td>\n",
       "      <td>2.31</td>\n",
       "      <td>0</td>\n",
       "      <td>0.538</td>\n",
       "      <td>6.575</td>\n",
       "      <td>65.2</td>\n",
       "      <td>4.0900</td>\n",
       "      <td>1</td>\n",
       "      <td>296</td>\n",
       "      <td>15.3</td>\n",
       "      <td>396.90</td>\n",
       "      <td>4.98</td>\n",
       "      <td>24.0</td>\n",
       "    </tr>\n",
       "    <tr>\n",
       "      <th>1</th>\n",
       "      <td>0.02731</td>\n",
       "      <td>0.0</td>\n",
       "      <td>7.07</td>\n",
       "      <td>0</td>\n",
       "      <td>0.469</td>\n",
       "      <td>6.421</td>\n",
       "      <td>78.9</td>\n",
       "      <td>4.9671</td>\n",
       "      <td>2</td>\n",
       "      <td>242</td>\n",
       "      <td>17.8</td>\n",
       "      <td>396.90</td>\n",
       "      <td>9.14</td>\n",
       "      <td>21.6</td>\n",
       "    </tr>\n",
       "    <tr>\n",
       "      <th>2</th>\n",
       "      <td>0.02729</td>\n",
       "      <td>0.0</td>\n",
       "      <td>7.07</td>\n",
       "      <td>0</td>\n",
       "      <td>0.469</td>\n",
       "      <td>7.185</td>\n",
       "      <td>61.1</td>\n",
       "      <td>4.9671</td>\n",
       "      <td>2</td>\n",
       "      <td>242</td>\n",
       "      <td>17.8</td>\n",
       "      <td>392.83</td>\n",
       "      <td>4.03</td>\n",
       "      <td>34.7</td>\n",
       "    </tr>\n",
       "    <tr>\n",
       "      <th>3</th>\n",
       "      <td>0.03237</td>\n",
       "      <td>0.0</td>\n",
       "      <td>2.18</td>\n",
       "      <td>0</td>\n",
       "      <td>0.458</td>\n",
       "      <td>6.998</td>\n",
       "      <td>45.8</td>\n",
       "      <td>6.0622</td>\n",
       "      <td>3</td>\n",
       "      <td>222</td>\n",
       "      <td>18.7</td>\n",
       "      <td>394.63</td>\n",
       "      <td>2.94</td>\n",
       "      <td>33.4</td>\n",
       "    </tr>\n",
       "    <tr>\n",
       "      <th>4</th>\n",
       "      <td>0.06905</td>\n",
       "      <td>0.0</td>\n",
       "      <td>2.18</td>\n",
       "      <td>0</td>\n",
       "      <td>0.458</td>\n",
       "      <td>7.147</td>\n",
       "      <td>54.2</td>\n",
       "      <td>6.0622</td>\n",
       "      <td>3</td>\n",
       "      <td>222</td>\n",
       "      <td>18.7</td>\n",
       "      <td>396.90</td>\n",
       "      <td>5.33</td>\n",
       "      <td>36.2</td>\n",
       "    </tr>\n",
       "  </tbody>\n",
       "</table>\n",
       "</div>"
      ],
      "text/plain": [
       "      CRIM    ZN  INDUS  CHAS    NOX     RM   AGE     DIS  RAD  TAX  PTRATIO  \\\n",
       "0  0.00632  18.0   2.31     0  0.538  6.575  65.2  4.0900    1  296     15.3   \n",
       "1  0.02731   0.0   7.07     0  0.469  6.421  78.9  4.9671    2  242     17.8   \n",
       "2  0.02729   0.0   7.07     0  0.469  7.185  61.1  4.9671    2  242     17.8   \n",
       "3  0.03237   0.0   2.18     0  0.458  6.998  45.8  6.0622    3  222     18.7   \n",
       "4  0.06905   0.0   2.18     0  0.458  7.147  54.2  6.0622    3  222     18.7   \n",
       "\n",
       "        B  LSTAT  MEDV  \n",
       "0  396.90   4.98  24.0  \n",
       "1  396.90   9.14  21.6  \n",
       "2  392.83   4.03  34.7  \n",
       "3  394.63   2.94  33.4  \n",
       "4  396.90   5.33  36.2  "
      ]
     },
     "execution_count": 7,
     "metadata": {},
     "output_type": "execute_result"
    }
   ],
   "source": [
    "house = pd.read_csv(PATH_DATA + \"boston_house_prices.csv\", header=1)\n",
    "house.head()"
   ]
  },
  {
   "cell_type": "code",
   "execution_count": 8,
   "metadata": {
    "slideshow": {
     "slide_type": "subslide"
    }
   },
   "outputs": [],
   "source": [
    "x = house.drop(house.MEDV.name, axis=1)\n",
    "y = house.MEDV"
   ]
  },
  {
   "cell_type": "markdown",
   "metadata": {},
   "source": [
    "#### Creating time series folds"
   ]
  },
  {
   "cell_type": "markdown",
   "metadata": {},
   "source": [
    "The conventional form of cross validation (KFold) is shown below"
   ]
  },
  {
   "cell_type": "markdown",
   "metadata": {},
   "source": [
    "<img src=\"../img/Kfold.png\"/>"
   ]
  },
  {
   "cell_type": "markdown",
   "metadata": {},
   "source": [
    "But when it comes to time series, the test set should always be more recent than train set\n",
    "So there are two methods for creating time series folds:"
   ]
  },
  {
   "cell_type": "markdown",
   "metadata": {},
   "source": [
    "##### Time series split"
   ]
  },
  {
   "cell_type": "markdown",
   "metadata": {},
   "source": [
    "<img src=\"../img/TS.png\"/>"
   ]
  },
  {
   "cell_type": "code",
   "execution_count": 9,
   "metadata": {},
   "outputs": [],
   "source": [
    "def TS_crossval(X,y,k = 5, test_percent = 0.2):\n",
    "    wsize = int(X.shape[0]//k)\n",
    "    test_part = int(test_percent * wsize)\n",
    "    train_lb = 0\n",
    "#     train_ub = train_lb + wsize\n",
    "    X_train={}; y_train={}\n",
    "    X_test={}; y_test={}\n",
    "    \n",
    "    fig = plt.figure(figsize = (12,6))\n",
    "    ax = fig.add_subplot(111)\n",
    "    \n",
    "    for i in range(1,k+1):\n",
    "        \n",
    "        train_ub = int((1-test_percent)* (train_lb + wsize))\n",
    "        test_part = int(test_percent *(train_lb + wsize))\n",
    "        print(\"fold\",i,\"===> train: \",0,\"_\",train_ub,\" | test: \",train_ub,\"_\",train_ub + test_part)\n",
    "        print(f\"Train Percentage: {train_ub /(train_ub + test_part):.0%}\")\n",
    "        print(\"_\"*80)\n",
    "        X_train[i] = X[0:train_ub]; y_train[i] = y[0:train_ub]\n",
    "        X_test[i] = X[train_ub:train_ub + test_part]; y_test[i] = y[train_ub:train_ub + test_part]\n",
    "        train_lb += wsize\n",
    "        \n",
    "        rect1 = matplotlib.patches.Rectangle((0,2*i*10), (train_ub/X.shape[0])*100, 10, color='blue')\n",
    "        rect2 = matplotlib.patches.Rectangle(((train_ub/X.shape[0])*100, 2*i*10),((test_part)/X.shape[0])*100 , 10, color='k')\n",
    "        ax.add_patch(rect1)\n",
    "        ax.add_patch(rect2)\n",
    "    print(\"\\n\") \n",
    "    plt.xlim([0, 100])\n",
    "    plt.ylim([0, 2*10*(k+1)])\n",
    "    plt.show()\n",
    "    return X_train,X_test,y_train,y_test"
   ]
  },
  {
   "cell_type": "markdown",
   "metadata": {},
   "source": [
    "##### Blocking time series split"
   ]
  },
  {
   "cell_type": "markdown",
   "metadata": {},
   "source": [
    "<img src=\"../img/TS_block.png\"/>"
   ]
  },
  {
   "cell_type": "code",
   "execution_count": 10,
   "metadata": {},
   "outputs": [],
   "source": [
    "def TS_crossval_block(X,y,k = 5, test_percent = 0.2):\n",
    "    wsize = int(X.shape[0]//k)\n",
    "    print(\"Each fold size: \", wsize)\n",
    "    test_part = int(test_percent * wsize)\n",
    "    train_lb = 0\n",
    "    train_ub = train_lb + wsize\n",
    "    X_train={}; y_train={}\n",
    "    X_test={}; y_test={}\n",
    "    \n",
    "    fig = plt.figure(figsize = (12,6))\n",
    "    ax = fig.add_subplot(111)\n",
    "    \n",
    "    for i in range(1,k+1):\n",
    "        \n",
    "        train_ub = int((1-test_percent)* wsize) +train_lb\n",
    "        test_part = int(test_percent * wsize)\n",
    "#         train_ub = train_lb + wsize\n",
    "        print(\"fold\",i,\"===> train: \",train_lb,\"_\",train_ub,\" | test: \",train_ub,\"_\",train_ub + test_part)\n",
    "        print(f\"Train Percentage: {(train_ub-train_lb) /(train_ub + test_part-train_lb):.0%}\")\n",
    "        print(\"_\"*80)\n",
    "        X_train[i] = X[train_lb:train_ub]; y_train[i] = y[train_lb:train_ub]\n",
    "        X_test[i] = X[train_ub:train_ub +test_part]; y_test[i] = y[train_ub:train_ub + test_part]\n",
    "        \n",
    "        rect1 = matplotlib.patches.Rectangle(((train_lb/X.shape[0])*100,2*i*10), ((train_ub-train_lb)/X.shape[0])*100, 10, color='blue')\n",
    "        rect2 = matplotlib.patches.Rectangle(((train_ub/X.shape[0])*100, 2*i*10),((test_part)/X.shape[0])*100 , 10, color='k')\n",
    "        ax.add_patch(rect1)\n",
    "        ax.add_patch(rect2)\n",
    "        \n",
    "        train_lb += wsize\n",
    "        \n",
    "    print(\"\\n\") \n",
    "    plt.xlim([0, 100])\n",
    "    plt.ylim([0, 2*10*(k+1)])\n",
    "    plt.show()\n",
    "    return X_train,X_test,y_train,y_test"
   ]
  },
  {
   "cell_type": "code",
   "execution_count": 13,
   "metadata": {},
   "outputs": [
    {
     "name": "stdout",
     "output_type": "stream",
     "text": [
      "fold 1 ===> train:  0 _ 80  | test:  80 _ 100\n",
      "Train Percentage: 80%\n",
      "________________________________________________________________________________\n",
      "fold 2 ===> train:  0 _ 161  | test:  161 _ 201\n",
      "Train Percentage: 80%\n",
      "________________________________________________________________________________\n",
      "fold 3 ===> train:  0 _ 242  | test:  242 _ 302\n",
      "Train Percentage: 80%\n",
      "________________________________________________________________________________\n",
      "fold 4 ===> train:  0 _ 323  | test:  323 _ 403\n",
      "Train Percentage: 80%\n",
      "________________________________________________________________________________\n",
      "fold 5 ===> train:  0 _ 404  | test:  404 _ 505\n",
      "Train Percentage: 80%\n",
      "________________________________________________________________________________\n",
      "\n",
      "\n"
     ]
    },
    {
     "data": {
      "image/png": "[encoded data removed]",
      "text/plain": [
       "<Figure size 864x432 with 1 Axes>"
      ]
     },
     "metadata": {},
     "output_type": "display_data"
    }
   ],
   "source": [
    "folds = 5\n",
    "X_train,X_test,y_train,y_test = TS_crossval(x,y,folds)"
   ]
  },
  {
   "cell_type": "code",
   "execution_count": 14,
   "metadata": {},
   "outputs": [
    {
     "name": "stdout",
     "output_type": "stream",
     "text": [
      "Each fold size:  101\n",
      "fold 1 ===> train:  0 _ 80  | test:  80 _ 100\n",
      "Train Percentage: 80%\n",
      "________________________________________________________________________________\n",
      "fold 2 ===> train:  101 _ 181  | test:  181 _ 201\n",
      "Train Percentage: 80%\n",
      "________________________________________________________________________________\n",
      "fold 3 ===> train:  202 _ 282  | test:  282 _ 302\n",
      "Train Percentage: 80%\n",
      "________________________________________________________________________________\n",
      "fold 4 ===> train:  303 _ 383  | test:  383 _ 403\n",
      "Train Percentage: 80%\n",
      "________________________________________________________________________________\n",
      "fold 5 ===> train:  404 _ 484  | test:  484 _ 504\n",
      "Train Percentage: 80%\n",
      "________________________________________________________________________________\n",
      "\n",
      "\n"
     ]
    },
    {
     "data": {
      "image/png": "[encoded data removed]",
      "text/plain": [
       "<Figure size 864x432 with 1 Axes>"
      ]
     },
     "metadata": {},
     "output_type": "display_data"
    }
   ],
   "source": [
    "X_train,X_test,y_train,y_test = TS_crossval_block(x,y,folds)"
   ]
  },
  {
   "cell_type": "markdown",
   "metadata": {},
   "source": [
    "#### Grid Search for Time Series"
   ]
  },
  {
   "cell_type": "code",
   "execution_count": 70,
   "metadata": {},
   "outputs": [],
   "source": [
    "param_grid = {\"max_features\": [0.8,0.9,1], \"max_depth\":[3,5,7,12,None]}"
   ]
  },
  {
   "cell_type": "code",
   "execution_count": 71,
   "metadata": {},
   "outputs": [],
   "source": [
    "rf = RandomForestRegressor(n_estimators=200,random_state=7)"
   ]
  },
  {
   "cell_type": "code",
   "execution_count": 72,
   "metadata": {},
   "outputs": [],
   "source": [
    "grid_search = GridSearchCV(rf, param_grid=param_grid, \n",
    "                           cv=[(list(X_train[i].index),list(X_test[i].index)) for i in range(1,folds+1)])"
   ]
  },
  {
   "cell_type": "code",
   "execution_count": 73,
   "metadata": {},
   "outputs": [],
   "source": [
    "grid_search.fit(x,y);"
   ]
  },
  {
   "cell_type": "code",
   "execution_count": 75,
   "metadata": {},
   "outputs": [
    {
     "data": {
      "text/html": [
       "<div>\n",
       "<style scoped>\n",
       "    .dataframe tbody tr th:only-of-type {\n",
       "        vertical-align: middle;\n",
       "    }\n",
       "\n",
       "    .dataframe tbody tr th {\n",
       "        vertical-align: top;\n",
       "    }\n",
       "\n",
       "    .dataframe thead th {\n",
       "        text-align: right;\n",
       "    }\n",
       "</style>\n",
       "<table border=\"1\" class=\"dataframe\">\n",
       "  <thead>\n",
       "    <tr style=\"text-align: right;\">\n",
       "      <th></th>\n",
       "      <th>mean_fit_time</th>\n",
       "      <th>std_fit_time</th>\n",
       "      <th>mean_score_time</th>\n",
       "      <th>std_score_time</th>\n",
       "      <th>param_max_depth</th>\n",
       "      <th>param_max_features</th>\n",
       "      <th>params</th>\n",
       "      <th>split0_test_score</th>\n",
       "      <th>split1_test_score</th>\n",
       "      <th>split2_test_score</th>\n",
       "      <th>split3_test_score</th>\n",
       "      <th>split4_test_score</th>\n",
       "      <th>mean_test_score</th>\n",
       "      <th>std_test_score</th>\n",
       "      <th>rank_test_score</th>\n",
       "    </tr>\n",
       "  </thead>\n",
       "  <tbody>\n",
       "    <tr>\n",
       "      <th>0</th>\n",
       "      <td>0.285607</td>\n",
       "      <td>0.032050</td>\n",
       "      <td>0.017594</td>\n",
       "      <td>0.000495</td>\n",
       "      <td>3</td>\n",
       "      <td>0.8</td>\n",
       "      <td>{'max_depth': 3, 'max_features': 0.8}</td>\n",
       "      <td>0.615696</td>\n",
       "      <td>0.636308</td>\n",
       "      <td>0.896278</td>\n",
       "      <td>0.194605</td>\n",
       "      <td>0.443036</td>\n",
       "      <td>0.557185</td>\n",
       "      <td>0.232018</td>\n",
       "      <td>10</td>\n",
       "    </tr>\n",
       "    <tr>\n",
       "      <th>1</th>\n",
       "      <td>0.293603</td>\n",
       "      <td>0.018516</td>\n",
       "      <td>0.018401</td>\n",
       "      <td>0.001023</td>\n",
       "      <td>3</td>\n",
       "      <td>0.9</td>\n",
       "      <td>{'max_depth': 3, 'max_features': 0.9}</td>\n",
       "      <td>0.628820</td>\n",
       "      <td>0.618112</td>\n",
       "      <td>0.900832</td>\n",
       "      <td>0.194490</td>\n",
       "      <td>0.469924</td>\n",
       "      <td>0.562436</td>\n",
       "      <td>0.230635</td>\n",
       "      <td>9</td>\n",
       "    </tr>\n",
       "    <tr>\n",
       "      <th>2</th>\n",
       "      <td>0.254997</td>\n",
       "      <td>0.017838</td>\n",
       "      <td>0.018403</td>\n",
       "      <td>0.001019</td>\n",
       "      <td>3</td>\n",
       "      <td>1</td>\n",
       "      <td>{'max_depth': 3, 'max_features': 1}</td>\n",
       "      <td>0.216464</td>\n",
       "      <td>0.155877</td>\n",
       "      <td>0.374979</td>\n",
       "      <td>-0.011712</td>\n",
       "      <td>0.165589</td>\n",
       "      <td>0.180239</td>\n",
       "      <td>0.124008</td>\n",
       "      <td>15</td>\n",
       "    </tr>\n",
       "    <tr>\n",
       "      <th>3</th>\n",
       "      <td>0.312798</td>\n",
       "      <td>0.032194</td>\n",
       "      <td>0.018405</td>\n",
       "      <td>0.001744</td>\n",
       "      <td>5</td>\n",
       "      <td>0.8</td>\n",
       "      <td>{'max_depth': 5, 'max_features': 0.8}</td>\n",
       "      <td>0.608542</td>\n",
       "      <td>0.636430</td>\n",
       "      <td>0.900272</td>\n",
       "      <td>0.303213</td>\n",
       "      <td>0.418777</td>\n",
       "      <td>0.573447</td>\n",
       "      <td>0.204432</td>\n",
       "      <td>4</td>\n",
       "    </tr>\n",
       "    <tr>\n",
       "      <th>4</th>\n",
       "      <td>0.325597</td>\n",
       "      <td>0.049837</td>\n",
       "      <td>0.018403</td>\n",
       "      <td>0.000802</td>\n",
       "      <td>5</td>\n",
       "      <td>0.9</td>\n",
       "      <td>{'max_depth': 5, 'max_features': 0.9}</td>\n",
       "      <td>0.623749</td>\n",
       "      <td>0.629895</td>\n",
       "      <td>0.901209</td>\n",
       "      <td>0.292835</td>\n",
       "      <td>0.395565</td>\n",
       "      <td>0.568651</td>\n",
       "      <td>0.211383</td>\n",
       "      <td>6</td>\n",
       "    </tr>\n",
       "    <tr>\n",
       "      <th>5</th>\n",
       "      <td>0.247799</td>\n",
       "      <td>0.008638</td>\n",
       "      <td>0.019001</td>\n",
       "      <td>0.001789</td>\n",
       "      <td>5</td>\n",
       "      <td>1</td>\n",
       "      <td>{'max_depth': 5, 'max_features': 1}</td>\n",
       "      <td>0.226321</td>\n",
       "      <td>0.298902</td>\n",
       "      <td>0.536987</td>\n",
       "      <td>0.122644</td>\n",
       "      <td>0.289854</td>\n",
       "      <td>0.294942</td>\n",
       "      <td>0.136398</td>\n",
       "      <td>14</td>\n",
       "    </tr>\n",
       "    <tr>\n",
       "      <th>6</th>\n",
       "      <td>0.343006</td>\n",
       "      <td>0.049693</td>\n",
       "      <td>0.018394</td>\n",
       "      <td>0.000794</td>\n",
       "      <td>7</td>\n",
       "      <td>0.8</td>\n",
       "      <td>{'max_depth': 7, 'max_features': 0.8}</td>\n",
       "      <td>0.605877</td>\n",
       "      <td>0.645998</td>\n",
       "      <td>0.899344</td>\n",
       "      <td>0.299346</td>\n",
       "      <td>0.379855</td>\n",
       "      <td>0.566084</td>\n",
       "      <td>0.212067</td>\n",
       "      <td>8</td>\n",
       "    </tr>\n",
       "    <tr>\n",
       "      <th>7</th>\n",
       "      <td>0.357415</td>\n",
       "      <td>0.051829</td>\n",
       "      <td>0.018789</td>\n",
       "      <td>0.001162</td>\n",
       "      <td>7</td>\n",
       "      <td>0.9</td>\n",
       "      <td>{'max_depth': 7, 'max_features': 0.9}</td>\n",
       "      <td>0.616420</td>\n",
       "      <td>0.633769</td>\n",
       "      <td>0.897568</td>\n",
       "      <td>0.315120</td>\n",
       "      <td>0.407754</td>\n",
       "      <td>0.574126</td>\n",
       "      <td>0.202349</td>\n",
       "      <td>3</td>\n",
       "    </tr>\n",
       "    <tr>\n",
       "      <th>8</th>\n",
       "      <td>0.258397</td>\n",
       "      <td>0.017606</td>\n",
       "      <td>0.018599</td>\n",
       "      <td>0.000792</td>\n",
       "      <td>7</td>\n",
       "      <td>1</td>\n",
       "      <td>{'max_depth': 7, 'max_features': 1}</td>\n",
       "      <td>0.249128</td>\n",
       "      <td>0.382445</td>\n",
       "      <td>0.603266</td>\n",
       "      <td>0.152483</td>\n",
       "      <td>0.328229</td>\n",
       "      <td>0.343110</td>\n",
       "      <td>0.151408</td>\n",
       "      <td>12</td>\n",
       "    </tr>\n",
       "    <tr>\n",
       "      <th>9</th>\n",
       "      <td>0.391203</td>\n",
       "      <td>0.082366</td>\n",
       "      <td>0.018996</td>\n",
       "      <td>0.001260</td>\n",
       "      <td>12</td>\n",
       "      <td>0.8</td>\n",
       "      <td>{'max_depth': 12, 'max_features': 0.8}</td>\n",
       "      <td>0.607798</td>\n",
       "      <td>0.638381</td>\n",
       "      <td>0.893856</td>\n",
       "      <td>0.302734</td>\n",
       "      <td>0.389488</td>\n",
       "      <td>0.566451</td>\n",
       "      <td>0.207336</td>\n",
       "      <td>7</td>\n",
       "    </tr>\n",
       "    <tr>\n",
       "      <th>10</th>\n",
       "      <td>0.391199</td>\n",
       "      <td>0.082455</td>\n",
       "      <td>0.018199</td>\n",
       "      <td>0.000400</td>\n",
       "      <td>12</td>\n",
       "      <td>0.9</td>\n",
       "      <td>{'max_depth': 12, 'max_features': 0.9}</td>\n",
       "      <td>0.631016</td>\n",
       "      <td>0.640184</td>\n",
       "      <td>0.900425</td>\n",
       "      <td>0.302460</td>\n",
       "      <td>0.414629</td>\n",
       "      <td>0.577743</td>\n",
       "      <td>0.206518</td>\n",
       "      <td>1</td>\n",
       "    </tr>\n",
       "    <tr>\n",
       "      <th>11</th>\n",
       "      <td>0.275809</td>\n",
       "      <td>0.019516</td>\n",
       "      <td>0.019797</td>\n",
       "      <td>0.001714</td>\n",
       "      <td>12</td>\n",
       "      <td>1</td>\n",
       "      <td>{'max_depth': 12, 'max_features': 1}</td>\n",
       "      <td>0.244542</td>\n",
       "      <td>0.377688</td>\n",
       "      <td>0.613599</td>\n",
       "      <td>0.199024</td>\n",
       "      <td>0.264491</td>\n",
       "      <td>0.339869</td>\n",
       "      <td>0.148973</td>\n",
       "      <td>13</td>\n",
       "    </tr>\n",
       "    <tr>\n",
       "      <th>12</th>\n",
       "      <td>0.381403</td>\n",
       "      <td>0.087117</td>\n",
       "      <td>0.018601</td>\n",
       "      <td>0.000489</td>\n",
       "      <td>None</td>\n",
       "      <td>0.8</td>\n",
       "      <td>{'max_depth': None, 'max_features': 0.8}</td>\n",
       "      <td>0.607938</td>\n",
       "      <td>0.634204</td>\n",
       "      <td>0.894851</td>\n",
       "      <td>0.306503</td>\n",
       "      <td>0.411801</td>\n",
       "      <td>0.571059</td>\n",
       "      <td>0.202752</td>\n",
       "      <td>5</td>\n",
       "    </tr>\n",
       "    <tr>\n",
       "      <th>13</th>\n",
       "      <td>0.395595</td>\n",
       "      <td>0.103313</td>\n",
       "      <td>0.018600</td>\n",
       "      <td>0.001744</td>\n",
       "      <td>None</td>\n",
       "      <td>0.9</td>\n",
       "      <td>{'max_depth': None, 'max_features': 0.9}</td>\n",
       "      <td>0.631157</td>\n",
       "      <td>0.620766</td>\n",
       "      <td>0.900471</td>\n",
       "      <td>0.307280</td>\n",
       "      <td>0.424915</td>\n",
       "      <td>0.576918</td>\n",
       "      <td>0.202663</td>\n",
       "      <td>2</td>\n",
       "    </tr>\n",
       "    <tr>\n",
       "      <th>14</th>\n",
       "      <td>0.309799</td>\n",
       "      <td>0.029260</td>\n",
       "      <td>0.020399</td>\n",
       "      <td>0.000798</td>\n",
       "      <td>None</td>\n",
       "      <td>1</td>\n",
       "      <td>{'max_depth': None, 'max_features': 1}</td>\n",
       "      <td>0.244379</td>\n",
       "      <td>0.384683</td>\n",
       "      <td>0.614843</td>\n",
       "      <td>0.177347</td>\n",
       "      <td>0.411324</td>\n",
       "      <td>0.366515</td>\n",
       "      <td>0.151464</td>\n",
       "      <td>11</td>\n",
       "    </tr>\n",
       "  </tbody>\n",
       "</table>\n",
       "</div>"
      ],
      "text/plain": [
       "    mean_fit_time  std_fit_time  mean_score_time  std_score_time  \\\n",
       "0        0.285607      0.032050         0.017594        0.000495   \n",
       "1        0.293603      0.018516         0.018401        0.001023   \n",
       "2        0.254997      0.017838         0.018403        0.001019   \n",
       "3        0.312798      0.032194         0.018405        0.001744   \n",
       "4        0.325597      0.049837         0.018403        0.000802   \n",
       "5        0.247799      0.008638         0.019001        0.001789   \n",
       "6        0.343006      0.049693         0.018394        0.000794   \n",
       "7        0.357415      0.051829         0.018789        0.001162   \n",
       "8        0.258397      0.017606         0.018599        0.000792   \n",
       "9        0.391203      0.082366         0.018996        0.001260   \n",
       "10       0.391199      0.082455         0.018199        0.000400   \n",
       "11       0.275809      0.019516         0.019797        0.001714   \n",
       "12       0.381403      0.087117         0.018601        0.000489   \n",
       "13       0.395595      0.103313         0.018600        0.001744   \n",
       "14       0.309799      0.029260         0.020399        0.000798   \n",
       "\n",
       "   param_max_depth param_max_features  \\\n",
       "0                3                0.8   \n",
       "1                3                0.9   \n",
       "2                3                  1   \n",
       "3                5                0.8   \n",
       "4                5                0.9   \n",
       "5                5                  1   \n",
       "6                7                0.8   \n",
       "7                7                0.9   \n",
       "8                7                  1   \n",
       "9               12                0.8   \n",
       "10              12                0.9   \n",
       "11              12                  1   \n",
       "12            None                0.8   \n",
       "13            None                0.9   \n",
       "14            None                  1   \n",
       "\n",
       "                                      params  split0_test_score  \\\n",
       "0      {'max_depth': 3, 'max_features': 0.8}           0.615696   \n",
       "1      {'max_depth': 3, 'max_features': 0.9}           0.628820   \n",
       "2        {'max_depth': 3, 'max_features': 1}           0.216464   \n",
       "3      {'max_depth': 5, 'max_features': 0.8}           0.608542   \n",
       "4      {'max_depth': 5, 'max_features': 0.9}           0.623749   \n",
       "5        {'max_depth': 5, 'max_features': 1}           0.226321   \n",
       "6      {'max_depth': 7, 'max_features': 0.8}           0.605877   \n",
       "7      {'max_depth': 7, 'max_features': 0.9}           0.616420   \n",
       "8        {'max_depth': 7, 'max_features': 1}           0.249128   \n",
       "9     {'max_depth': 12, 'max_features': 0.8}           0.607798   \n",
       "10    {'max_depth': 12, 'max_features': 0.9}           0.631016   \n",
       "11      {'max_depth': 12, 'max_features': 1}           0.244542   \n",
       "12  {'max_depth': None, 'max_features': 0.8}           0.607938   \n",
       "13  {'max_depth': None, 'max_features': 0.9}           0.631157   \n",
       "14    {'max_depth': None, 'max_features': 1}           0.244379   \n",
       "\n",
       "    split1_test_score  split2_test_score  split3_test_score  \\\n",
       "0            0.636308           0.896278           0.194605   \n",
       "1            0.618112           0.900832           0.194490   \n",
       "2            0.155877           0.374979          -0.011712   \n",
       "3            0.636430           0.900272           0.303213   \n",
       "4            0.629895           0.901209           0.292835   \n",
       "5            0.298902           0.536987           0.122644   \n",
       "6            0.645998           0.899344           0.299346   \n",
       "7            0.633769           0.897568           0.315120   \n",
       "8            0.382445           0.603266           0.152483   \n",
       "9            0.638381           0.893856           0.302734   \n",
       "10           0.640184           0.900425           0.302460   \n",
       "11           0.377688           0.613599           0.199024   \n",
       "12           0.634204           0.894851           0.306503   \n",
       "13           0.620766           0.900471           0.307280   \n",
       "14           0.384683           0.614843           0.177347   \n",
       "\n",
       "    split4_test_score  mean_test_score  std_test_score  rank_test_score  \n",
       "0            0.443036         0.557185        0.232018               10  \n",
       "1            0.469924         0.562436        0.230635                9  \n",
       "2            0.165589         0.180239        0.124008               15  \n",
       "3            0.418777         0.573447        0.204432                4  \n",
       "4            0.395565         0.568651        0.211383                6  \n",
       "5            0.289854         0.294942        0.136398               14  \n",
       "6            0.379855         0.566084        0.212067                8  \n",
       "7            0.407754         0.574126        0.202349                3  \n",
       "8            0.328229         0.343110        0.151408               12  \n",
       "9            0.389488         0.566451        0.207336                7  \n",
       "10           0.414629         0.577743        0.206518                1  \n",
       "11           0.264491         0.339869        0.148973               13  \n",
       "12           0.411801         0.571059        0.202752                5  \n",
       "13           0.424915         0.576918        0.202663                2  \n",
       "14           0.411324         0.366515        0.151464               11  "
      ]
     },
     "execution_count": 75,
     "metadata": {},
     "output_type": "execute_result"
    }
   ],
   "source": [
    "Grid_cv=pd.DataFrame(grid_search.cv_results_)\n",
    "Grid_cv"
   ]
  },
  {
   "cell_type": "code",
   "execution_count": 74,
   "metadata": {},
   "outputs": [
    {
     "name": "stdout",
     "output_type": "stream",
     "text": [
      "Best parameters: {'max_depth': 12, 'max_features': 0.9}\n"
     ]
    }
   ],
   "source": [
    "print(f\"Best parameters: {grid_search.best_params_}\")"
   ]
  },
  {
   "cell_type": "markdown",
   "metadata": {
    "slideshow": {
     "slide_type": "slide"
    }
   },
   "source": [
    "#### *What we learned*"
   ]
  },
  {
   "cell_type": "markdown",
   "metadata": {
    "slideshow": {
     "slide_type": "fragment"
    }
   },
   "source": [
    "* We learned how to do cross validation for time series and how to use it for grid search "
   ]
  }
 ],
 "metadata": {
  "celltoolbar": "Slideshow",
  "kernelspec": {
   "display_name": "Python 3.7.3 ('base')",
   "language": "python",
   "name": "python3"
  },
  "language_info": {
   "codemirror_mode": {
    "name": "ipython",
    "version": 3
   },
   "file_extension": ".py",
   "mimetype": "text/x-python",
   "name": "python",
   "nbconvert_exporter": "python",
   "pygments_lexer": "ipython3",
   "version": "3.7.3"
  },
  "vscode": {
   "interpreter": {
    "hash": "a0da2d4ec81b6896a8bbe2157825a118769be514d9d1599d2023767124c40acb"
   }
  }
 },
 "nbformat": 4,
 "nbformat_minor": 4
}
