{
 "cells": [
  {
   "cell_type": "markdown",
   "metadata": {},
   "source": [
    "<div class=\"alert alert-block alert-info\">\n",
    "    <h1 align=\"center\">Matplotlib Horizontal Bar Chart</h1>\n",
    "    <h3 align=\"center\"> Machine Learning Course</h3>\n",
    "    <h5 align=\"center\">Alireza Aghamohammadi (http://linkedin.com/in/aaghamohammadi)</h5>\n",
    "</div>"
   ]
  },
  {
   "cell_type": "code",
   "execution_count": null,
   "metadata": {},
   "outputs": [],
   "source": [
    "%matplotlib inline\n",
    "import pandas as pd\n",
    "import matplotlib.pyplot as plt"
   ]
  },
  {
   "cell_type": "code",
   "execution_count": null,
   "metadata": {},
   "outputs": [],
   "source": [
    "PATH = \"../data/\"\n",
    "users = pd.read_table(PATH + \"users.tsv\",\n",
    "                      header=None,\n",
    "                      sep=\"|\",\n",
    "                      names=[\"id\", \"age\", \"gender\", \"occupation\", \"zip_code\"])\n",
    "users.head()"
   ]
  },
  {
   "cell_type": "markdown",
   "metadata": {},
   "source": [
    "#### Question: How to plot number of women vs men with bar chart?"
   ]
  },
  {
   "cell_type": "code",
   "execution_count": null,
   "metadata": {},
   "outputs": [],
   "source": [
    "users.gender.value_counts().plot.barh();"
   ]
  },
  {
   "cell_type": "code",
   "execution_count": null,
   "metadata": {},
   "outputs": [],
   "source": [
    "users.gender.value_counts().plot(kind=\"barh\");"
   ]
  },
  {
   "cell_type": "markdown",
   "metadata": {},
   "source": [
    "#### How do I change the style of a plot?"
   ]
  },
  {
   "cell_type": "code",
   "execution_count": null,
   "metadata": {},
   "outputs": [],
   "source": [
    "#plt.style.use(\"ggplot\")\n",
    "plt.style.use(\"seaborn\")"
   ]
  },
  {
   "cell_type": "code",
   "execution_count": null,
   "metadata": {},
   "outputs": [],
   "source": [
    "users.gender.value_counts().plot(kind=\"barh\");"
   ]
  },
  {
   "cell_type": "markdown",
   "metadata": {},
   "source": [
    "#### Question: How do I add legend to a plot?"
   ]
  },
  {
   "cell_type": "code",
   "execution_count": null,
   "metadata": {},
   "outputs": [],
   "source": [
    "users.rename(columns={'gender': \"Gender (F/M)\"}, inplace=True)\n",
    "users[\"Gender (F/M)\"].value_counts().plot(kind=\"barh\", legend=True, title=\"Number of Women/Men\");"
   ]
  },
  {
   "cell_type": "markdown",
   "metadata": {},
   "source": [
    "#### *What we learned*"
   ]
  },
  {
   "cell_type": "markdown",
   "metadata": {},
   "source": [
    "* We learned how to plot bar chart\n",
    "* We learned how to add legend\n",
    "* We learned how to change the style of matplotlib\n",
    "* We learned how to change the name of legend by renaming column name"
   ]
  }
 ],
 "metadata": {
  "kernelspec": {
   "display_name": "Python 3",
   "language": "python",
   "name": "python3"
  },
  "language_info": {
   "codemirror_mode": {
    "name": "ipython",
    "version": 3
   },
   "file_extension": ".py",
   "mimetype": "text/x-python",
   "name": "python",
   "nbconvert_exporter": "python",
   "pygments_lexer": "ipython3",
   "version": "3.7.1"
  }
 },
 "nbformat": 4,
 "nbformat_minor": 2
}
